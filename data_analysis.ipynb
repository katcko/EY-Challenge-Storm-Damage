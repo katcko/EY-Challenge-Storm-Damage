{
 "cells": [
  {
   "cell_type": "markdown",
   "metadata": {},
   "source": [
    "### Data Analysis\n",
    "\n",
    "#### Maxar High-Resolution Data\n",
    "* Main source\n",
    "* Visual panchromatic data \n",
    "    * Resolution: 30cm\n",
    "    * Type: panchromatic data colorized RGB images\n",
    "    * Specificities: no cloud-masking provided\n",
    "    * Source: Maxar Open Data Program\n",
    "    * Provided information: \n",
    "    \n",
    "#### ESA’s Sentinel-2 Moderate-Resolution Data\n",
    "* Additional source\n",
    "* Optical data\n",
    "    * Resolution: 10m (1000cm)\n",
    "    * Type: optical data with filtered clouds\n",
    "    * Specificities: data contamination by clouds\n",
    "    * Source: Microsoft Planetary Computer\n",
    "    * Provided information: details on vegetation extent and its change due to \n",
    "storm damage\n",
    "\n",
    "\n",
    "#### NASA’s Landsat Moderate Resolution Data\n",
    "* Additional source\n",
    "* Optical image\n",
    "    * Resolution: 30m (3000cm)\n",
    "    * Type: optical data\n",
    "    * Specificities: data contamination by clouds\n",
    "    * Source: Microsoft Planetary Computer\n",
    "    * Provided information: building footprint data. Can be used to identify the location of mix  of residential (smaller) and commercial (larger)  buildings  to support labeling of training data.\n"
   ]
  },
  {
   "cell_type": "markdown",
   "metadata": {},
   "source": [
    "### Objectives\n",
    "\n",
    "Develop an object detection algorithm to identify structure types (houses vs. commercial buildings) and storm damage (e.g., roof \n",
    "loss)"
   ]
  },
  {
   "cell_type": "markdown",
   "metadata": {},
   "source": [
    "#### Metrics\n",
    "Mean Average Precision (mAP score)\n",
    "\n",
    "Intial model values are at 0.34 and we aim at improving it\n",
    "\n",
    "Means of improvement:\n",
    "* Detect failing labels and provide mode instances of that class\n",
    "* Synthetic data\n",
    "* Explore various other generative AI image models to generate synthetic images\n",
    "* Use additional datasets to build the model (if publicly available and referenced)."
   ]
  },
  {
   "cell_type": "code",
   "execution_count": null,
   "metadata": {},
   "outputs": [],
   "source": []
  }
 ],
 "metadata": {
  "language_info": {
   "name": "python"
  }
 },
 "nbformat": 4,
 "nbformat_minor": 2
}
